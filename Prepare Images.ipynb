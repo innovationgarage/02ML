{
 "cells": [
  {
   "cell_type": "code",
   "execution_count": 1,
   "metadata": {},
   "outputs": [],
   "source": [
    "import numpy as np\n",
    "import pandas as pd\n",
    "import os\n",
    "from sklearn.model_selection import train_test_split\n",
    "from shutil import copyfile\n",
    "import pathlib\n",
    "from PIL import Image\n",
    "import datetime\n",
    "from tqdm import tqdm"
   ]
  },
  {
   "cell_type": "code",
   "execution_count": 2,
   "metadata": {},
   "outputs": [],
   "source": [
    "def convert_dataset(path_from, path_to):\n",
    "    for img in tqdm(os.listdir(path_from)):\n",
    "        try:\n",
    "            if os.path.splitext(img)[-1] == '.png':\n",
    "                im = Image.open(os.path.join(path_from, img))\n",
    "                rgb_im = im.convert('RGB')\n",
    "                rgb_im.save(os.path.join(path_to, '{}.jpg'.format(os.path.splitext(img)[0])), quality=100)\n",
    "        except:\n",
    "            pass"
   ]
  },
  {
   "cell_type": "code",
   "execution_count": 3,
   "metadata": {},
   "outputs": [
    {
     "name": "stderr",
     "output_type": "stream",
     "text": [
      "100%|██████████| 15031/15031 [03:56<00:00, 63.61it/s]\n"
     ]
    }
   ],
   "source": [
    "convert_dataset('./images_png/', './images/')"
   ]
  },
  {
   "cell_type": "code",
   "execution_count": 17,
   "metadata": {},
   "outputs": [],
   "source": [
    "datapath = \"./data/\"\n",
    "all_ships = pd.read_csv(os.path.join(datapath, \"all_ships.csv\"))\n",
    "all_ships.drop(columns=['COURSE', 'DESTINATION', 'DWT', 'ELAPSED', 'FLAG', 'GT_SHIPTYPE',\n",
    "                        'HEADING', 'LAT', 'LEGEND', 'LENGTH', 'LON', 'L_FORE', 'ROT',\n",
    "                        'SHIPNAME', 'SPEED', 'STATUS_NAME','WIDTH', 'W_LEFT'], inplace=True)\n"
   ]
  },
  {
   "cell_type": "code",
   "execution_count": 18,
   "metadata": {},
   "outputs": [],
   "source": [
    "all_ships['DIRNAME'] = all_ships.apply(lambda x: \"{}_{}\".format(x[\"SHIPTYPE\"], x[\"TYPE_NAME\"]), axis=1)\n",
    "all_ships['OLD_IMG_PATH'] = all_ships.apply(lambda x: \"./images/{}.jpg\".format(x['SHIP_ID']), axis=1)"
   ]
  },
  {
   "cell_type": "code",
   "execution_count": 19,
   "metadata": {},
   "outputs": [],
   "source": [
    "train_valid, test = train_test_split(all_ships, test_size=0.2)\n",
    "train, valid = train_test_split(train_valid, test_size=0.2)"
   ]
  },
  {
   "cell_type": "code",
   "execution_count": 20,
   "metadata": {},
   "outputs": [
    {
     "name": "stderr",
     "output_type": "stream",
     "text": [
      "0it [00:00, ?it/s]/home/saghar/.virtualenvs/02ML/lib/python3.5/site-packages/ipykernel_launcher.py:4: SettingWithCopyWarning: \n",
      "A value is trying to be set on a copy of a slice from a DataFrame.\n",
      "Try using .loc[row_indexer,col_indexer] = value instead\n",
      "\n",
      "See the caveats in the documentation: http://pandas.pydata.org/pandas-docs/stable/indexing.html#indexing-view-versus-copy\n",
      "  after removing the cwd from sys.path.\n",
      "/home/saghar/.virtualenvs/02ML/lib/python3.5/site-packages/ipykernel_launcher.py:5: SettingWithCopyWarning: \n",
      "A value is trying to be set on a copy of a slice from a DataFrame.\n",
      "Try using .loc[row_indexer,col_indexer] = value instead\n",
      "\n",
      "See the caveats in the documentation: http://pandas.pydata.org/pandas-docs/stable/indexing.html#indexing-view-versus-copy\n",
      "  \"\"\"\n",
      "3it [00:02,  1.06it/s]\n"
     ]
    }
   ],
   "source": [
    "dfs = [train, valid, test]\n",
    "paths = ['./shipImages/train', './shipImages/valid', './shipImages/test']\n",
    "for (df, path) in tqdm(zip(dfs, paths)):\n",
    "    df['NEW_IMG_PATH'] = df.apply(lambda x: \"{}/{}/\".format(path, x['DIRNAME']), axis=1)\n",
    "    df['NEW_IMG_NAME'] = df.apply(lambda x: \"{}_{}.jpg\".format(x['TYPE_NAME'],x['SHIP_ID']), axis=1)\n"
   ]
  },
  {
   "cell_type": "code",
   "execution_count": 21,
   "metadata": {},
   "outputs": [
    {
     "name": "stderr",
     "output_type": "stream",
     "text": [
      "33737it [00:09, 3551.01it/s] \n",
      "8435it [00:04, 1948.41it/s]\n",
      "10543it [00:04, 2363.40it/s]\n"
     ]
    }
   ],
   "source": [
    "for (df, path) in zip(dfs, paths):\n",
    "    for (src, dstpath, dstname) in tqdm(zip(df['OLD_IMG_PATH'], df['NEW_IMG_PATH'], df['NEW_IMG_NAME'])):\n",
    "        dst = os.path.join(dstpath, dstname)\n",
    "        pathlib.Path(dstpath).mkdir(parents=True, exist_ok=True)\n",
    "        if os.path.exists(src):\n",
    "            copyfile(src, dst)\n",
    "    "
   ]
  },
  {
   "cell_type": "code",
   "execution_count": null,
   "metadata": {},
   "outputs": [],
   "source": []
  }
 ],
 "metadata": {
  "kernelspec": {
   "display_name": "Python 3",
   "language": "python",
   "name": "python3"
  },
  "language_info": {
   "codemirror_mode": {
    "name": "ipython",
    "version": 3
   },
   "file_extension": ".py",
   "mimetype": "text/x-python",
   "name": "python",
   "nbconvert_exporter": "python",
   "pygments_lexer": "ipython3",
   "version": "3.5.2"
  }
 },
 "nbformat": 4,
 "nbformat_minor": 2
}
